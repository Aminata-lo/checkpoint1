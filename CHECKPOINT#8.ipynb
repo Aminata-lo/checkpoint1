{
 "cells": [
  {
   "cell_type": "code",
   "execution_count": 238,
   "id": "6888f136",
   "metadata": {},
   "outputs": [],
   "source": [
    "import pandas as pd\n",
    "import numpy as np\n",
    "from sklearn.cluster import AgglomerativeClustering \n",
    "import matplotlib.pyplot as plt\n",
    "import scipy.cluster.hierarchy as shc\n",
    "from sklearn.cluster import KMeans\n",
    "from sklearn.metrics import silhouette_score\n",
    "import seaborn as sns\n"
   ]
  },
  {
   "cell_type": "raw",
   "id": "722febb7",
   "metadata": {},
   "source": [
    "# 1. Load your dataset. "
   ]
  },
  {
   "cell_type": "code",
   "execution_count": 239,
   "id": "ca83cc5d",
   "metadata": {},
   "outputs": [],
   "source": [
    "frame_cc = pd.read_csv('CC GENERAL.csv', sep=',')"
   ]
  },
  {
   "cell_type": "code",
   "execution_count": 240,
   "id": "56390c03",
   "metadata": {},
   "outputs": [
    {
     "data": {
      "text/html": [
       "<div>\n",
       "<style scoped>\n",
       "    .dataframe tbody tr th:only-of-type {\n",
       "        vertical-align: middle;\n",
       "    }\n",
       "\n",
       "    .dataframe tbody tr th {\n",
       "        vertical-align: top;\n",
       "    }\n",
       "\n",
       "    .dataframe thead th {\n",
       "        text-align: right;\n",
       "    }\n",
       "</style>\n",
       "<table border=\"1\" class=\"dataframe\">\n",
       "  <thead>\n",
       "    <tr style=\"text-align: right;\">\n",
       "      <th></th>\n",
       "      <th>CUST_ID</th>\n",
       "      <th>BALANCE</th>\n",
       "      <th>BALANCE_FREQUENCY</th>\n",
       "      <th>PURCHASES</th>\n",
       "      <th>ONEOFF_PURCHASES</th>\n",
       "      <th>INSTALLMENTS_PURCHASES</th>\n",
       "      <th>CASH_ADVANCE</th>\n",
       "      <th>PURCHASES_FREQUENCY</th>\n",
       "      <th>ONEOFF_PURCHASES_FREQUENCY</th>\n",
       "      <th>PURCHASES_INSTALLMENTS_FREQUENCY</th>\n",
       "      <th>CASH_ADVANCE_FREQUENCY</th>\n",
       "      <th>CASH_ADVANCE_TRX</th>\n",
       "      <th>PURCHASES_TRX</th>\n",
       "      <th>CREDIT_LIMIT</th>\n",
       "      <th>PAYMENTS</th>\n",
       "      <th>MINIMUM_PAYMENTS</th>\n",
       "      <th>PRC_FULL_PAYMENT</th>\n",
       "      <th>TENURE</th>\n",
       "    </tr>\n",
       "  </thead>\n",
       "  <tbody>\n",
       "    <tr>\n",
       "      <th>0</th>\n",
       "      <td>C10001</td>\n",
       "      <td>40.900749</td>\n",
       "      <td>0.818182</td>\n",
       "      <td>95.40</td>\n",
       "      <td>0.00</td>\n",
       "      <td>95.4</td>\n",
       "      <td>0.000000</td>\n",
       "      <td>0.166667</td>\n",
       "      <td>0.000000</td>\n",
       "      <td>0.083333</td>\n",
       "      <td>0.000000</td>\n",
       "      <td>0</td>\n",
       "      <td>2</td>\n",
       "      <td>1000.0</td>\n",
       "      <td>201.802084</td>\n",
       "      <td>139.509787</td>\n",
       "      <td>0.000000</td>\n",
       "      <td>12</td>\n",
       "    </tr>\n",
       "    <tr>\n",
       "      <th>1</th>\n",
       "      <td>C10002</td>\n",
       "      <td>3202.467416</td>\n",
       "      <td>0.909091</td>\n",
       "      <td>0.00</td>\n",
       "      <td>0.00</td>\n",
       "      <td>0.0</td>\n",
       "      <td>6442.945483</td>\n",
       "      <td>0.000000</td>\n",
       "      <td>0.000000</td>\n",
       "      <td>0.000000</td>\n",
       "      <td>0.250000</td>\n",
       "      <td>4</td>\n",
       "      <td>0</td>\n",
       "      <td>7000.0</td>\n",
       "      <td>4103.032597</td>\n",
       "      <td>1072.340217</td>\n",
       "      <td>0.222222</td>\n",
       "      <td>12</td>\n",
       "    </tr>\n",
       "    <tr>\n",
       "      <th>2</th>\n",
       "      <td>C10003</td>\n",
       "      <td>2495.148862</td>\n",
       "      <td>1.000000</td>\n",
       "      <td>773.17</td>\n",
       "      <td>773.17</td>\n",
       "      <td>0.0</td>\n",
       "      <td>0.000000</td>\n",
       "      <td>1.000000</td>\n",
       "      <td>1.000000</td>\n",
       "      <td>0.000000</td>\n",
       "      <td>0.000000</td>\n",
       "      <td>0</td>\n",
       "      <td>12</td>\n",
       "      <td>7500.0</td>\n",
       "      <td>622.066742</td>\n",
       "      <td>627.284787</td>\n",
       "      <td>0.000000</td>\n",
       "      <td>12</td>\n",
       "    </tr>\n",
       "    <tr>\n",
       "      <th>3</th>\n",
       "      <td>C10004</td>\n",
       "      <td>1666.670542</td>\n",
       "      <td>0.636364</td>\n",
       "      <td>1499.00</td>\n",
       "      <td>1499.00</td>\n",
       "      <td>0.0</td>\n",
       "      <td>205.788017</td>\n",
       "      <td>0.083333</td>\n",
       "      <td>0.083333</td>\n",
       "      <td>0.000000</td>\n",
       "      <td>0.083333</td>\n",
       "      <td>1</td>\n",
       "      <td>1</td>\n",
       "      <td>7500.0</td>\n",
       "      <td>0.000000</td>\n",
       "      <td>NaN</td>\n",
       "      <td>0.000000</td>\n",
       "      <td>12</td>\n",
       "    </tr>\n",
       "    <tr>\n",
       "      <th>4</th>\n",
       "      <td>C10005</td>\n",
       "      <td>817.714335</td>\n",
       "      <td>1.000000</td>\n",
       "      <td>16.00</td>\n",
       "      <td>16.00</td>\n",
       "      <td>0.0</td>\n",
       "      <td>0.000000</td>\n",
       "      <td>0.083333</td>\n",
       "      <td>0.083333</td>\n",
       "      <td>0.000000</td>\n",
       "      <td>0.000000</td>\n",
       "      <td>0</td>\n",
       "      <td>1</td>\n",
       "      <td>1200.0</td>\n",
       "      <td>678.334763</td>\n",
       "      <td>244.791237</td>\n",
       "      <td>0.000000</td>\n",
       "      <td>12</td>\n",
       "    </tr>\n",
       "  </tbody>\n",
       "</table>\n",
       "</div>"
      ],
      "text/plain": [
       "  CUST_ID      BALANCE  BALANCE_FREQUENCY  PURCHASES  ONEOFF_PURCHASES  \\\n",
       "0  C10001    40.900749           0.818182      95.40              0.00   \n",
       "1  C10002  3202.467416           0.909091       0.00              0.00   \n",
       "2  C10003  2495.148862           1.000000     773.17            773.17   \n",
       "3  C10004  1666.670542           0.636364    1499.00           1499.00   \n",
       "4  C10005   817.714335           1.000000      16.00             16.00   \n",
       "\n",
       "   INSTALLMENTS_PURCHASES  CASH_ADVANCE  PURCHASES_FREQUENCY  \\\n",
       "0                    95.4      0.000000             0.166667   \n",
       "1                     0.0   6442.945483             0.000000   \n",
       "2                     0.0      0.000000             1.000000   \n",
       "3                     0.0    205.788017             0.083333   \n",
       "4                     0.0      0.000000             0.083333   \n",
       "\n",
       "   ONEOFF_PURCHASES_FREQUENCY  PURCHASES_INSTALLMENTS_FREQUENCY  \\\n",
       "0                    0.000000                          0.083333   \n",
       "1                    0.000000                          0.000000   \n",
       "2                    1.000000                          0.000000   \n",
       "3                    0.083333                          0.000000   \n",
       "4                    0.083333                          0.000000   \n",
       "\n",
       "   CASH_ADVANCE_FREQUENCY  CASH_ADVANCE_TRX  PURCHASES_TRX  CREDIT_LIMIT  \\\n",
       "0                0.000000                 0              2        1000.0   \n",
       "1                0.250000                 4              0        7000.0   \n",
       "2                0.000000                 0             12        7500.0   \n",
       "3                0.083333                 1              1        7500.0   \n",
       "4                0.000000                 0              1        1200.0   \n",
       "\n",
       "      PAYMENTS  MINIMUM_PAYMENTS  PRC_FULL_PAYMENT  TENURE  \n",
       "0   201.802084        139.509787          0.000000      12  \n",
       "1  4103.032597       1072.340217          0.222222      12  \n",
       "2   622.066742        627.284787          0.000000      12  \n",
       "3     0.000000               NaN          0.000000      12  \n",
       "4   678.334763        244.791237          0.000000      12  "
      ]
     },
     "execution_count": 240,
     "metadata": {},
     "output_type": "execute_result"
    }
   ],
   "source": [
    "frame_cc.head()"
   ]
  },
  {
   "cell_type": "code",
   "execution_count": 241,
   "id": "191302f0",
   "metadata": {
    "scrolled": true
   },
   "outputs": [
    {
     "data": {
      "text/plain": [
       "CUST_ID                               0\n",
       "BALANCE                               0\n",
       "BALANCE_FREQUENCY                     0\n",
       "PURCHASES                             0\n",
       "ONEOFF_PURCHASES                      0\n",
       "INSTALLMENTS_PURCHASES                0\n",
       "CASH_ADVANCE                          0\n",
       "PURCHASES_FREQUENCY                   0\n",
       "ONEOFF_PURCHASES_FREQUENCY            0\n",
       "PURCHASES_INSTALLMENTS_FREQUENCY      0\n",
       "CASH_ADVANCE_FREQUENCY                0\n",
       "CASH_ADVANCE_TRX                      0\n",
       "PURCHASES_TRX                         0\n",
       "CREDIT_LIMIT                          1\n",
       "PAYMENTS                              0\n",
       "MINIMUM_PAYMENTS                    313\n",
       "PRC_FULL_PAYMENT                      0\n",
       "TENURE                                0\n",
       "dtype: int64"
      ]
     },
     "execution_count": 241,
     "metadata": {},
     "output_type": "execute_result"
    }
   ],
   "source": [
    "frame_cc.isnull().sum()"
   ]
  },
  {
   "cell_type": "code",
   "execution_count": 242,
   "id": "27c0ec07",
   "metadata": {},
   "outputs": [],
   "source": [
    "frame_cc['MINIMUM_PAYMENTS']\n",
    "frame_cc['MINIMUM_PAYMENTS'].mean()\n",
    "frame_cc['MINIMUM_PAYMENTS'].fillna(frame_cc['MINIMUM_PAYMENTS'].mean(), inplace=True)\n",
    "frame_cc['CREDIT_LIMIT']\n",
    "frame_cc['CREDIT_LIMIT'].fillna(frame_cc['CREDIT_LIMIT'].mean(), inplace=True)\n",
    "frame_cc=frame_cc.drop('CUST_ID',axis=1)\n",
    "\n"
   ]
  },
  {
   "cell_type": "code",
   "execution_count": 243,
   "id": "1ede626a",
   "metadata": {
    "scrolled": true
   },
   "outputs": [
    {
     "name": "stdout",
     "output_type": "stream",
     "text": [
      "<class 'pandas.core.frame.DataFrame'>\n",
      "RangeIndex: 8950 entries, 0 to 8949\n",
      "Data columns (total 17 columns):\n",
      " #   Column                            Non-Null Count  Dtype  \n",
      "---  ------                            --------------  -----  \n",
      " 0   BALANCE                           8950 non-null   float64\n",
      " 1   BALANCE_FREQUENCY                 8950 non-null   float64\n",
      " 2   PURCHASES                         8950 non-null   float64\n",
      " 3   ONEOFF_PURCHASES                  8950 non-null   float64\n",
      " 4   INSTALLMENTS_PURCHASES            8950 non-null   float64\n",
      " 5   CASH_ADVANCE                      8950 non-null   float64\n",
      " 6   PURCHASES_FREQUENCY               8950 non-null   float64\n",
      " 7   ONEOFF_PURCHASES_FREQUENCY        8950 non-null   float64\n",
      " 8   PURCHASES_INSTALLMENTS_FREQUENCY  8950 non-null   float64\n",
      " 9   CASH_ADVANCE_FREQUENCY            8950 non-null   float64\n",
      " 10  CASH_ADVANCE_TRX                  8950 non-null   int64  \n",
      " 11  PURCHASES_TRX                     8950 non-null   int64  \n",
      " 12  CREDIT_LIMIT                      8950 non-null   float64\n",
      " 13  PAYMENTS                          8950 non-null   float64\n",
      " 14  MINIMUM_PAYMENTS                  8950 non-null   float64\n",
      " 15  PRC_FULL_PAYMENT                  8950 non-null   float64\n",
      " 16  TENURE                            8950 non-null   int64  \n",
      "dtypes: float64(14), int64(3)\n",
      "memory usage: 1.2 MB\n"
     ]
    }
   ],
   "source": [
    "frame_cc.isnull().sum()\n",
    "frame_cc.info()"
   ]
  },
  {
   "cell_type": "raw",
   "id": "e095f56c",
   "metadata": {},
   "source": [
    "#2. Use hierarchical clustering to identify the inherent groupings within your data."
   ]
  },
  {
   "cell_type": "code",
   "execution_count": 244,
   "id": "b5ec7a90",
   "metadata": {
    "scrolled": true
   },
   "outputs": [
    {
     "data": {
      "text/html": [
       "<div>\n",
       "<style scoped>\n",
       "    .dataframe tbody tr th:only-of-type {\n",
       "        vertical-align: middle;\n",
       "    }\n",
       "\n",
       "    .dataframe tbody tr th {\n",
       "        vertical-align: top;\n",
       "    }\n",
       "\n",
       "    .dataframe thead th {\n",
       "        text-align: right;\n",
       "    }\n",
       "</style>\n",
       "<table border=\"1\" class=\"dataframe\">\n",
       "  <thead>\n",
       "    <tr style=\"text-align: right;\">\n",
       "      <th></th>\n",
       "      <th>0</th>\n",
       "    </tr>\n",
       "  </thead>\n",
       "  <tbody>\n",
       "    <tr>\n",
       "      <th>0</th>\n",
       "      <td>2</td>\n",
       "    </tr>\n",
       "    <tr>\n",
       "      <th>1</th>\n",
       "      <td>2</td>\n",
       "    </tr>\n",
       "    <tr>\n",
       "      <th>2</th>\n",
       "      <td>2</td>\n",
       "    </tr>\n",
       "    <tr>\n",
       "      <th>3</th>\n",
       "      <td>2</td>\n",
       "    </tr>\n",
       "    <tr>\n",
       "      <th>4</th>\n",
       "      <td>2</td>\n",
       "    </tr>\n",
       "    <tr>\n",
       "      <th>...</th>\n",
       "      <td>...</td>\n",
       "    </tr>\n",
       "    <tr>\n",
       "      <th>8945</th>\n",
       "      <td>2</td>\n",
       "    </tr>\n",
       "    <tr>\n",
       "      <th>8946</th>\n",
       "      <td>2</td>\n",
       "    </tr>\n",
       "    <tr>\n",
       "      <th>8947</th>\n",
       "      <td>2</td>\n",
       "    </tr>\n",
       "    <tr>\n",
       "      <th>8948</th>\n",
       "      <td>2</td>\n",
       "    </tr>\n",
       "    <tr>\n",
       "      <th>8949</th>\n",
       "      <td>2</td>\n",
       "    </tr>\n",
       "  </tbody>\n",
       "</table>\n",
       "<p>8950 rows × 1 columns</p>\n",
       "</div>"
      ],
      "text/plain": [
       "      0\n",
       "0     2\n",
       "1     2\n",
       "2     2\n",
       "3     2\n",
       "4     2\n",
       "...  ..\n",
       "8945  2\n",
       "8946  2\n",
       "8947  2\n",
       "8948  2\n",
       "8949  2\n",
       "\n",
       "[8950 rows x 1 columns]"
      ]
     },
     "execution_count": 244,
     "metadata": {},
     "output_type": "execute_result"
    }
   ],
   "source": [
    "\n",
    "model=AgglomerativeClustering(n_clusters=6, affinity='euclidean', linkage='complete')\n",
    "clust=model.fit_predict(frame_cc) \n",
    "agglomerative=pd.DataFrame(clust)\n",
    "agglomerative\n"
   ]
  },
  {
   "cell_type": "raw",
   "id": "e005c978",
   "metadata": {},
   "source": [
    "#3. Plot the clusters. "
   ]
  },
  {
   "cell_type": "code",
   "execution_count": 246,
   "id": "1a7e4a67",
   "metadata": {
    "scrolled": false
   },
   "outputs": [
    {
     "data": {
      "text/plain": [
       "<matplotlib.colorbar.Colorbar at 0x12970ec10>"
      ]
     },
     "execution_count": 246,
     "metadata": {},
     "output_type": "execute_result"
    },
    {
     "data": {
      "image/png": "[encoded data removed]",
      "text/plain": [
       "<Figure size 720x576 with 2 Axes>"
      ]
     },
     "metadata": {
      "needs_background": "light"
     },
     "output_type": "display_data"
    }
   ],
   "source": [
    "fig =plt.figure(plt.figure(figsize=(10,8)))\n",
    "ax = fig.add_subplot(111)\n",
    "scatter = ax.scatter (frame_cc ['ONEOFF_PURCHASES'].values[:,np.newaxis],\n",
    "                      frame_cc ['ONEOFF_PURCHASES_FREQUENCY'].values[:,np.newaxis], c = agglomerative[0], s=30)\n",
    "ax.set_title(\"Agglomerative Clutering\")\n",
    "ax.set_xlabel(\"ONEOFF_PURCHASES\")\n",
    "ax.set_ylabel(\"ONEOFF_PURCHASES_FREQUENCY\")\n",
    "plt.colorbar(scatter)"
   ]
  },
  {
   "cell_type": "raw",
   "id": "182bf148",
   "metadata": {},
   "source": [
    "#4. Plot the dendrogram.  "
   ]
  },
  {
   "cell_type": "code",
   "execution_count": 247,
   "id": "8727b95d",
   "metadata": {
    "scrolled": true
   },
   "outputs": [
    {
     "data": {
      "image/png": "[encoded data removed]",
      "text/plain": [
       "<Figure size 720x504 with 1 Axes>"
      ]
     },
     "metadata": {
      "needs_background": "light"
     },
     "output_type": "display_data"
    }
   ],
   "source": [
    "\n",
    "plt.figure(figsize=(10,7))\n",
    "plt.title(\"Customer Dendrograms\")\n",
    "dend=shc.dendrogram(shc.linkage(frame_cc, method=\"complete\"))"
   ]
  },
  {
   "cell_type": "markdown",
   "id": "2aa662ac",
   "metadata": {},
   "source": [
    "#. Use k-means clustering."
   ]
  },
  {
   "cell_type": "code",
   "execution_count": 138,
   "id": "013c76e4",
   "metadata": {},
   "outputs": [
    {
     "data": {
      "text/plain": [
       "array([2, 3, 0, ..., 2, 2, 2], dtype=int32)"
      ]
     },
     "execution_count": 138,
     "metadata": {},
     "output_type": "execute_result"
    }
   ],
   "source": [
    "kmeans=KMeans(n_clusters=5, random_state=0) \n",
    "kmeans.fit(frame_cc)\n",
    "labels=pd.DataFrame(kmeans.labels_)\n",
    "labels\n",
    "kmeans.predict(frame_cc)\n"
   ]
  },
  {
   "cell_type": "raw",
   "id": "19b43a8c",
   "metadata": {},
   "source": [
    "5. Try different k values and select the best one. "
   ]
  },
  {
   "cell_type": "code",
   "execution_count": 158,
   "id": "4804e6c9",
   "metadata": {},
   "outputs": [
    {
     "name": "stdout",
     "output_type": "stream",
     "text": [
      "[393060990475.35077, 279296684341.999, 232802839931.34818, 206824677250.91296, 182196544173.90988, 162395877625.18756, 145308303487.47968, 132872737182.26332, 124170070278.41122]\n"
     ]
    }
   ],
   "source": [
    "from sklearn.cluster import KMeans  #Importing our clustering algorithm: KMeans\n",
    "\n",
    "dist_2_cent = []\n",
    "k=range(1, 10)\n",
    "\n",
    "for k in k:\n",
    "    km =KMeans (n_clusters=k)\n",
    "    km = km.fit(frame_cc)\n",
    "    dist_2_cent.append(km.inertia_)\n",
    "print(dist_2_cent)\n",
    "\n"
   ]
  },
  {
   "cell_type": "code",
   "execution_count": 159,
   "id": "8295a083",
   "metadata": {},
   "outputs": [
    {
     "data": {
      "text/plain": [
       "-232803099786.24118"
      ]
     },
     "execution_count": 159,
     "metadata": {},
     "output_type": "execute_result"
    }
   ],
   "source": [
    "k = (3,4,7,8)\n",
    "kmeans=KMeans(n_clusters=3, random_state=0) \n",
    "kmeans.fit(frame_cc)\n",
    "labels=pd.DataFrame(kmeans.labels_)\n",
    "labels\n",
    "kmeans.predict(frame_cc)\n",
    "kmeans.score(frame_cc)"
   ]
  },
  {
   "cell_type": "code",
   "execution_count": 160,
   "id": "9957f416",
   "metadata": {},
   "outputs": [
    {
     "data": {
      "text/plain": [
       "-206824677250.91302"
      ]
     },
     "execution_count": 160,
     "metadata": {},
     "output_type": "execute_result"
    }
   ],
   "source": [
    "kmeans=KMeans(n_clusters=4, random_state=0) \n",
    "kmeans.fit(frame_cc)\n",
    "labels=pd.DataFrame(kmeans.labels_)\n",
    "labels\n",
    "kmeans.predict(frame_cc)\n",
    "kmeans.score(frame_cc)"
   ]
  },
  {
   "cell_type": "code",
   "execution_count": 161,
   "id": "485d42cb",
   "metadata": {},
   "outputs": [
    {
     "data": {
      "text/plain": [
       "-145174949455.60684"
      ]
     },
     "execution_count": 161,
     "metadata": {},
     "output_type": "execute_result"
    }
   ],
   "source": [
    "kmeans=KMeans(n_clusters=7, random_state=0) \n",
    "kmeans.fit(frame_cc)\n",
    "labels=pd.DataFrame(kmeans.labels_)\n",
    "labels\n",
    "kmeans.predict(frame_cc)\n",
    "kmeans.score(frame_cc)"
   ]
  },
  {
   "cell_type": "code",
   "execution_count": 162,
   "id": "195a5c75",
   "metadata": {},
   "outputs": [
    {
     "data": {
      "text/plain": [
       "-132872718133.35516"
      ]
     },
     "execution_count": 162,
     "metadata": {},
     "output_type": "execute_result"
    }
   ],
   "source": [
    "kmeans=KMeans(n_clusters=8, random_state=0) \n",
    "kmeans.fit(frame_cc)\n",
    "labels=pd.DataFrame(kmeans.labels_)\n",
    "labels\n",
    "kmeans.predict(frame_cc)\n",
    "kmeans.score(frame_cc)"
   ]
  },
  {
   "cell_type": "code",
   "execution_count": 163,
   "id": "72d9c1ba",
   "metadata": {
    "scrolled": true
   },
   "outputs": [
    {
     "data": {
      "text/plain": [
       "<function matplotlib.pyplot.show(close=None, block=None)>"
      ]
     },
     "execution_count": 163,
     "metadata": {},
     "output_type": "execute_result"
    },
    {
     "data": {
      "image/png": "[encoded data removed]",
      "text/plain": [
       "<Figure size 432x288 with 1 Axes>"
      ]
     },
     "metadata": {
      "needs_background": "light"
     },
     "output_type": "display_data"
    }
   ],
   "source": [
    "k=[i for i in range(1,10)]\n",
    "plt.plot(k, dist_2_cent, 'bx-')\n",
    "plt.xlabel('k')\n",
    "plt.ylabel('dist_2_cent')\n",
    "plt.title(\"optimal k's value\")\n",
    "plt.show"
   ]
  },
  {
   "cell_type": "code",
   "execution_count": 253,
   "id": "f24ee54d",
   "metadata": {
    "scrolled": true
   },
   "outputs": [
    {
     "name": "stdout",
     "output_type": "stream",
     "text": [
      "[[8.41631112e+02 8.53096674e-01 5.13167101e+02 2.49886563e+02\n",
      "  2.63571248e+02 5.17882105e+02 4.51480385e-01 1.32702844e-01\n",
      "  3.46084094e-01 1.12580105e-01 2.38354010e+00 9.62554604e+00\n",
      "  2.31445600e+03 9.19749564e+02 5.95376469e+02 1.45431641e-01\n",
      "  1.13852874e+01]\n",
      " [6.18980012e+03 9.74480194e-01 1.09818978e+03 5.96760183e+02\n",
      "  5.01516884e+02 4.63025763e+03 3.91818150e-01 1.87891033e-01\n",
      "  2.96596872e-01 3.88931175e-01 1.17118644e+01 1.71003911e+01\n",
      "  9.77921062e+03 3.94414388e+03 3.37646448e+03 2.42941904e-02\n",
      "  1.16245111e+01]\n",
      " [1.65053490e+03 9.03089671e-01 1.64162590e+03 1.04310379e+03\n",
      "  5.98921235e+02 7.06443983e+02 6.03731433e-01 3.56190537e-01\n",
      "  4.18895671e-01 1.03412063e-01 2.32393162e+00 2.25876068e+01\n",
      "  7.67328477e+03 2.13495469e+03 6.21309230e+02 2.06720966e-01\n",
      "  1.17893162e+01]\n",
      " [4.79638751e+03 9.05371567e-01 1.13175981e+04 8.11363117e+03\n",
      "  3.20415025e+03 4.93808868e+03 7.62992408e-01 6.24496775e-01\n",
      "  6.11410550e-01 2.07918450e-01 8.45833333e+00 8.82916667e+01\n",
      "  1.26962500e+04 1.85579866e+04 2.36414305e+03 3.42334317e-01\n",
      "  1.18250000e+01]]\n"
     ]
    },
    {
     "data": {
      "text/html": [
       "<div>\n",
       "<style scoped>\n",
       "    .dataframe tbody tr th:only-of-type {\n",
       "        vertical-align: middle;\n",
       "    }\n",
       "\n",
       "    .dataframe tbody tr th {\n",
       "        vertical-align: top;\n",
       "    }\n",
       "\n",
       "    .dataframe thead th {\n",
       "        text-align: right;\n",
       "    }\n",
       "</style>\n",
       "<table border=\"1\" class=\"dataframe\">\n",
       "  <thead>\n",
       "    <tr style=\"text-align: right;\">\n",
       "      <th></th>\n",
       "      <th>0</th>\n",
       "    </tr>\n",
       "  </thead>\n",
       "  <tbody>\n",
       "    <tr>\n",
       "      <th>0</th>\n",
       "      <td>0</td>\n",
       "    </tr>\n",
       "    <tr>\n",
       "      <th>1</th>\n",
       "      <td>1</td>\n",
       "    </tr>\n",
       "    <tr>\n",
       "      <th>2</th>\n",
       "      <td>2</td>\n",
       "    </tr>\n",
       "    <tr>\n",
       "      <th>3</th>\n",
       "      <td>2</td>\n",
       "    </tr>\n",
       "    <tr>\n",
       "      <th>4</th>\n",
       "      <td>0</td>\n",
       "    </tr>\n",
       "    <tr>\n",
       "      <th>...</th>\n",
       "      <td>...</td>\n",
       "    </tr>\n",
       "    <tr>\n",
       "      <th>8945</th>\n",
       "      <td>0</td>\n",
       "    </tr>\n",
       "    <tr>\n",
       "      <th>8946</th>\n",
       "      <td>0</td>\n",
       "    </tr>\n",
       "    <tr>\n",
       "      <th>8947</th>\n",
       "      <td>0</td>\n",
       "    </tr>\n",
       "    <tr>\n",
       "      <th>8948</th>\n",
       "      <td>0</td>\n",
       "    </tr>\n",
       "    <tr>\n",
       "      <th>8949</th>\n",
       "      <td>0</td>\n",
       "    </tr>\n",
       "  </tbody>\n",
       "</table>\n",
       "<p>8950 rows × 1 columns</p>\n",
       "</div>"
      ],
      "text/plain": [
       "      0\n",
       "0     0\n",
       "1     1\n",
       "2     2\n",
       "3     2\n",
       "4     0\n",
       "...  ..\n",
       "8945  0\n",
       "8946  0\n",
       "8947  0\n",
       "8948  0\n",
       "8949  0\n",
       "\n",
       "[8950 rows x 1 columns]"
      ]
     },
     "execution_count": 253,
     "metadata": {},
     "output_type": "execute_result"
    }
   ],
   "source": [
    "#best k's value k=4\n",
    "\n",
    "kmeans=KMeans(n_clusters= 4, random_state=0) \n",
    "k = kmeans.fit(frame_cc)\n",
    "y=kmeans.predict(frame_cc)\n",
    "print(kmeans.cluster_centers_)\n",
    "label=pd.DataFrame(kmeans.labels_)\n",
    "label\n",
    "#kmeans.predict(frame_cc)\n",
    "#k.inertia_"
   ]
  },
  {
   "cell_type": "raw",
   "id": "ef0a2f1b",
   "metadata": {},
   "source": [
    "#6. Plot the clusters. "
   ]
  },
  {
   "cell_type": "code",
   "execution_count": 254,
   "id": "40d2da66",
   "metadata": {
    "scrolled": true
   },
   "outputs": [
    {
     "data": {
      "image/png": "[encoded data removed]",
      "text/plain": [
       "<Figure size 720x720 with 1 Axes>"
      ]
     },
     "metadata": {
      "needs_background": "light"
     },
     "output_type": "display_data"
    }
   ],
   "source": [
    "\n",
    "\n",
    "x=frame_cc ['ONEOFF_PURCHASES'].values[:,np.newaxis]\n",
    "y=frame_cc ['ONEOFF_PURCHASES_FREQUENCY'].values[:,np.newaxis]\n",
    "plt.figure(figsize =(10, 10))\n",
    "\n",
    "plt.scatter(x[label == 0,],          \n",
    "            y[label == 0,],s=100,c='magenta',label='Careful')\n",
    "plt.scatter(x[label == 1,],\n",
    "           y[label == 1,],s=100,c='yellow',label='Standard')\n",
    "plt.scatter(x[label == 2,],\n",
    "          y[label == 2,],s=100,c='green',label='Target')\n",
    "\n",
    "plt.scatter(kmeans.cluster_centers_[:, 0], kmeans.cluster_centers_[:, 1], s=200, c='red', label = 'Centroids')\n",
    "plt.title('ONEOFF_PURCHASES')\n",
    "plt.xlabel('Annual Income(k$)')\n",
    "plt.ylabel('ONEOFF_PURCHASES_FREQUENCY')\n",
    "plt.legend()\n",
    "plt.show()"
   ]
  },
  {
   "cell_type": "raw",
   "id": "86d97de2",
   "metadata": {},
   "source": [
    "# 7. Compare the two results. "
   ]
  },
  {
   "cell_type": "markdown",
   "id": "2f0db13f",
   "metadata": {},
   "source": [
    "k-Means can produce higher clusters than hierarchical clustering"
   ]
  },
  {
   "cell_type": "markdown",
   "id": "c9aaf40b",
   "metadata": {},
   "source": [
    "Silhouette Coefficient or silhouette score is a metric used to calculate the goodness of a clustering technique. Its value ranges from -1 to 1.\n",
    "1: Means clusters are well apart from each other and clearly distinguished.\n",
    "0: Means clusters are indifferent, or we can say that the distance between clusters is not significant.\n",
    "-1: Means clusters are assigned in the wrong way."
   ]
  },
  {
   "cell_type": "code",
   "execution_count": 255,
   "id": "dbfe48ee",
   "metadata": {},
   "outputs": [
    {
     "name": "stderr",
     "output_type": "stream",
     "text": [
      "/opt/anaconda3/lib/python3.8/site-packages/sklearn/utils/validation.py:985: DataConversionWarning: A column-vector y was passed when a 1d array was expected. Please change the shape of y to (n_samples, ), for example using ravel().\n",
      "  y = column_or_1d(y, warn=True)\n"
     ]
    },
    {
     "name": "stdout",
     "output_type": "stream",
     "text": [
      "Silhouette Score(n=4): -0.4068136462232919\n"
     ]
    }
   ],
   "source": [
    "\n",
    "print(f\"Silhouette Score(n=4): {silhouette_score(frame_cc, y)}\")\n"
   ]
  },
  {
   "cell_type": "code",
   "execution_count": null,
   "id": "577c29c2",
   "metadata": {},
   "outputs": [],
   "source": []
  },
  {
   "cell_type": "code",
   "execution_count": null,
   "id": "94b1ae5d",
   "metadata": {},
   "outputs": [],
   "source": []
  },
  {
   "cell_type": "code",
   "execution_count": null,
   "id": "1bcb3b80",
   "metadata": {},
   "outputs": [],
   "source": []
  },
  {
   "cell_type": "code",
   "execution_count": null,
   "id": "24191b5d",
   "metadata": {},
   "outputs": [],
   "source": []
  },
  {
   "cell_type": "code",
   "execution_count": null,
   "id": "f59cb099",
   "metadata": {},
   "outputs": [],
   "source": []
  }
 ],
 "metadata": {
  "kernelspec": {
   "display_name": "Python 3 (ipykernel)",
   "language": "python",
   "name": "python3"
  },
  "language_info": {
   "codemirror_mode": {
    "name": "ipython",
    "version": 3
   },
   "file_extension": ".py",
   "mimetype": "text/x-python",
   "name": "python",
   "nbconvert_exporter": "python",
   "pygments_lexer": "ipython3",
   "version": "3.8.2"
  }
 },
 "nbformat": 4,
 "nbformat_minor": 5
}
