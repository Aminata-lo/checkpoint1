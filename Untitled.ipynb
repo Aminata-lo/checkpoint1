{
 "cells": [
  {
   "cell_type": "code",
   "execution_count": null,
   "id": "6f9294a2",
   "metadata": {},
   "outputs": [],
   "source": [
    "def my_age(a):\n",
    "    b = int(2021)\n",
    "    try:\n",
    "        while a in range(0, 2022):\n",
    "            age = b - a\n",
    "            return print(f\"vous avez actuellement {age} ans.\")\n",
    "\n",
    "    except a > 2021:\n",
    "        return print(\"impossible de calculer votre age.\")\n",
    "    \n",
    "    \n",
    "    \n",
    "my_age()    "
   ]
  }
 ],
 "metadata": {
  "kernelspec": {
   "display_name": "Python 3",
   "language": "python",
   "name": "python3"
  },
  "language_info": {
   "codemirror_mode": {
    "name": "ipython",
    "version": 3
   },
   "file_extension": ".py",
   "mimetype": "text/x-python",
   "name": "python",
   "nbconvert_exporter": "python",
   "pygments_lexer": "ipython3",
   "version": "3.8.8"
  }
 },
 "nbformat": 4,
 "nbformat_minor": 5
}
