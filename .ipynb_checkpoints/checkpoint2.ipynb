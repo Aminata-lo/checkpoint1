{
 "cells": [
  {
   "cell_type": "code",
   "execution_count": 1,
   "id": "4345574e",
   "metadata": {},
   "outputs": [
    {
     "name": "stdout",
     "output_type": "stream",
     "text": [
      "les nombres cherchés : [2002, 2009, 2016, 2023, 2037, 2044, 2051, 2058, 2072, 2079, 2086, 2093, 2107, 2114, 2121, 2128, 2142, 2149, 2156, 2163, 2177, 2184, 2191, 2198, 2212, 2219, 2226, 2233, 2247, 2254, 2261, 2268, 2282, 2289, 2296, 2303, 2317, 2324, 2331, 2338, 2352, 2359, 2366, 2373, 2387, 2394, 2401, 2408, 2422, 2429, 2436, 2443, 2457, 2464, 2471, 2478, 2492, 2499, 2506, 2513, 2527, 2534, 2541, 2548, 2562, 2569, 2576, 2583, 2597, 2604, 2611, 2618, 2632, 2639, 2646, 2653, 2667, 2674, 2681, 2688, 2702, 2709, 2716, 2723, 2737, 2744, 2751, 2758, 2772, 2779, 2786, 2793, 2807, 2814, 2821, 2828, 2842, 2849, 2856, 2863, 2877, 2884, 2891, 2898, 2912, 2919, 2926, 2933, 2947, 2954, 2961, 2968, 2982, 2989, 2996, 3003, 3017, 3024, 3031, 3038, 3052, 3059, 3066, 3073, 3087, 3094, 3101, 3108, 3122, 3129, 3136, 3143, 3157, 3164, 3171, 3178, 3192, 3199]\n"
     ]
    }
   ],
   "source": [
    "#  Question 1:\n",
    "\n",
    "lst_number = [i for i in range(2000, 3201) if i % 7 == 0 and i % 5 != 0]\n",
    "print(f\"les nombres cherchés : {lst_number}\")"
   ]
  },
  {
   "cell_type": "code",
   "execution_count": 2,
   "id": "615984c6",
   "metadata": {},
   "outputs": [
    {
     "name": "stdout",
     "output_type": "stream",
     "text": [
      "Entrer un nombre5\n",
      "le factoriel de 5: 120\n"
     ]
    }
   ],
   "source": [
    "# QUESION 2:\n",
    "b = 1\n",
    "giving_number = int(input(\"Entrer un nombre\"))\n",
    "for i in range(2, giving_number+1): # Puisque 0!=1!=1\n",
    "    b = b*i\n",
    "    if i == giving_number:\n",
    "        print(f\"le factoriel de {giving_number}: {b}\")"
   ]
  },
  {
   "cell_type": "code",
   "execution_count": 3,
   "id": "bd1229a3",
   "metadata": {},
   "outputs": [
    {
     "name": "stdout",
     "output_type": "stream",
     "text": [
      "Entrer votre nombre4\n",
      "{0: 0, 1: 1, 2: 4, 3: 9, 4: 16}\n"
     ]
    }
   ],
   "source": [
    "# QUESTION 3:\n",
    "\n",
    "giving_number = int(input(\"Entrer votre nombre\"))\n",
    "\n",
    "my_numbers = {i: i**2 for i in range(0, giving_number+1)}\n",
    "\n",
    "print(my_numbers)\n"
   ]
  },
  {
   "cell_type": "code",
   "execution_count": 4,
   "id": "2771d8e5",
   "metadata": {},
   "outputs": [
    {
     "name": "stdout",
     "output_type": "stream",
     "text": [
      "Entrer le mot svpBONJOUR\n",
      "Entrerl'index6\n",
      "BONJOU\n"
     ]
    }
   ],
   "source": [
    "# Question 4:\n",
    "my_word = list(input(\"Entrer le mot svp\"))\n",
    "n = int(input(\"Entrerl'index\"))\n",
    "if n <= len(my_word):\n",
    "    del my_word[n]\n",
    "    my_word_1 = \"\".join(my_word)\n",
    "    print(my_word_1)"
   ]
  },
  {
   "cell_type": "code",
   "execution_count": 5,
   "id": "d9af9e34",
   "metadata": {},
   "outputs": [
    {
     "name": "stdout",
     "output_type": "stream",
     "text": [
      "[[0, 1], [2, 3], [4, 5]]\n"
     ]
    }
   ],
   "source": [
    "# QUESTION 5:\n",
    "\n",
    "import numpy as np\n",
    "\n",
    "my_array = np.array([[0, 1],[2, 3],[4, 5]])\n",
    "my_list = my_array.tolist()\n",
    "\n",
    "print(my_list)"
   ]
  },
  {
   "cell_type": "code",
   "execution_count": null,
   "id": "41f2b6ec",
   "metadata": {},
   "outputs": [],
   "source": [
    "# QUESTION 6:\n",
    "\n",
    "import numpy as np\n",
    "\n",
    "my_array = np.array([[0,1,2],[2,1,0]])\n",
    "\n",
    "print(np.cov(my_array))"
   ]
  },
  {
   "cell_type": "code",
   "execution_count": null,
   "id": "f9101e25",
   "metadata": {},
   "outputs": [],
   "source": [
    "# QUESTION 7:\n",
    "\n",
    "from math import sqrt\n",
    "\n",
    "C = int(50)\n",
    "H = int(30)\n",
    "D = []\n",
    "N = int(input(\"nombre de racine a calculer\"))\n",
    "while True:\n",
    "    x = int(input(\"NUMBER SVP\"))\n",
    "    D.append(x)\n",
    "    if len(D) == N:\n",
    "        print(f\"nombre choisis :{D}\")\n",
    "        break\n",
    "\n",
    "for i in D:\n",
    "    Q = sqrt((2 * C * i) / H)\n",
    "    print(round(Q), end=', ')"
   ]
  },
  {
   "cell_type": "code",
   "execution_count": null,
   "id": "7d81132e",
   "metadata": {},
   "outputs": [],
   "source": []
  },
  {
   "cell_type": "code",
   "execution_count": null,
   "id": "64673461",
   "metadata": {},
   "outputs": [],
   "source": []
  },
  {
   "cell_type": "code",
   "execution_count": null,
   "id": "7657d778",
   "metadata": {},
   "outputs": [],
   "source": []
  }
 ],
 "metadata": {
  "kernelspec": {
   "display_name": "Python 3",
   "language": "python",
   "name": "python3"
  },
  "language_info": {
   "codemirror_mode": {
    "name": "ipython",
    "version": 3
   },
   "file_extension": ".py",
   "mimetype": "text/x-python",
   "name": "python",
   "nbconvert_exporter": "python",
   "pygments_lexer": "ipython3",
   "version": "3.8.8"
  }
 },
 "nbformat": 4,
 "nbformat_minor": 5
}
